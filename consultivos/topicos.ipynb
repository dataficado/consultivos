{
 "cells": [
  {
   "cell_type": "code",
   "execution_count": 1,
   "metadata": {},
   "outputs": [],
   "source": [
    "from pathlib import Path\n",
    "import os\n",
    "import warnings\n",
    "\n",
    "from gensim.corpora import Dictionary\n",
    "from gensim.corpora import MmCorpus\n",
    "from gensim.models import CoherenceModel\n",
    "from gensim.models.ldamodel import LdaModel\n",
    "from nltk.corpus import stopwords\n",
    "from nltk.stem import SnowballStemmer\n",
    "import matplotlib.pyplot as plt\n",
    "import pandas as pd\n",
    "import plotly.offline as pyo\n",
    "import plotly.graph_objs as go\n",
    "import pyLDAvis\n",
    "import pyLDAvis.gensim\n",
    "import seaborn as sns\n",
    "import spacy"
   ]
  },
  {
   "cell_type": "code",
   "execution_count": 2,
   "metadata": {},
   "outputs": [],
   "source": [
    "# Enable in-notebook visualizations\n",
    "%matplotlib inline"
   ]
  },
  {
   "cell_type": "code",
   "execution_count": 3,
   "metadata": {},
   "outputs": [],
   "source": [
    "nlp = spacy.load('es_md')"
   ]
  },
  {
   "cell_type": "code",
   "execution_count": 4,
   "metadata": {},
   "outputs": [],
   "source": [
    "def iter_documents(directory, lang, other=None):\n",
    "    \"\"\"\n",
    "    Parameters\n",
    "    ----------\n",
    "    directory: str   \n",
    "    lang: spacy.lang\n",
    "    other: dict, optional\n",
    "    \n",
    "    Yields\n",
    "    ------\n",
    "    list of str\n",
    "        Itera sobre cada documento en directory, \n",
    "        devolviendo lista de palabras de cada uno a la vez, \n",
    "        filtrando según criterios en other.\n",
    "    \"\"\"\n",
    "    cpath = Path(directory)\n",
    "    for fpath in cpath.glob('*.txt'):\n",
    "        with open(fpath, encoding='utf-8') as f:\n",
    "            text = f.read()\n",
    "        \n",
    "        doc = lang(text)\n",
    "        \n",
    "        tokens = (tok for tok in doc if tok.is_alpha and not tok.is_stop)\n",
    "        \n",
    "        if other:\n",
    "            if 'stopwords' in other:\n",
    "                tokens = (tok for tok in tokens if tok.lower_ not in other['stopwords'])\n",
    "            if 'postags' in other:\n",
    "                tokens = (tok for tok in tokens if tok.pos_ in other['postags'])\n",
    "            if 'entities' in other:\n",
    "                tokens = (tok for tok in tokens if tok.ent_type_ not in other['entities'])\n",
    "        \n",
    "        wordlist = [tok.lower_ for tok in tokens]\n",
    "        if other and 'stemmer' in other:\n",
    "            wordlist = [other['stemmer'].stem(w) for w in wordlist]\n",
    "            \n",
    "        yield wordlist"
   ]
  },
  {
   "cell_type": "code",
   "execution_count": 5,
   "metadata": {},
   "outputs": [],
   "source": [
    "class CorpusConsultivos:\n",
    "    \"\"\"\n",
    "    Iterable: en cada iteración devuelve vectores bag-of-words, uno por documento.\n",
    "    Procesa un documento a la vez usando generators. Nunca carga todo el corpus a RAM.\n",
    "    \"\"\"\n",
    "    def __init__(self, directorio, lenguaje, otros=None):\n",
    "        self.directorio = directorio\n",
    "        self.lenguaje = lenguaje\n",
    "        self.otros = otros\n",
    "        \n",
    "        self.diccionario = Dictionary(iter_documents(self.directorio, self.lenguaje, self.otros))\n",
    "        # opcionalmente acá se podría reducir tamaño de diccionario usando\n",
    "        # filter_tokens y compactify, o filter_extremes\n",
    "        # corpus actual no da pa esto.\n",
    " \n",
    "    def __iter__(self):\n",
    "        \"\"\"\n",
    "        CorpusConsultivos es un streamed iterable.\n",
    "        \"\"\"\n",
    "        for tokens in iter_documents(self.directorio, self.lenguaje, self.otros):\n",
    "            yield self.diccionario.doc2bow(tokens)"
   ]
  },
  {
   "cell_type": "code",
   "execution_count": 6,
   "metadata": {},
   "outputs": [],
   "source": [
    "def create_models(corpus, topics, params, directory, lang, other=None):\n",
    "    \"\"\"\n",
    "    Crea modelos LDA para diferentes números de tópicos\n",
    "\n",
    "    Parameters\n",
    "    ----------\n",
    "    corpus: CorpusConsultivos\n",
    "    topics: iterable con el # de tópicos\n",
    "    params: dict con parámetros requeridos en modelo\n",
    "    directory: str   \n",
    "    lang: spacy.lang\n",
    "    other: dict, optional\n",
    "    \n",
    "    Returns\n",
    "    -------\n",
    "    dict of str\n",
    "        Dict con resultados de modelos LDA\n",
    "    \"\"\"\n",
    "    models = {}\n",
    "    \n",
    "    for i in topics:\n",
    "        result = {}\n",
    "        id2word = corpus.diccionario\n",
    "        with warnings.catch_warnings():\n",
    "            warnings.simplefilter('ignore')\n",
    "            lda = LdaModel(corpus, num_topics=i, id2word=id2word, **params)\n",
    "        \n",
    "        texts = list(iter_documents(directory, lang, other))\n",
    "        cm = CoherenceModel(model=lda, texts=texts, dictionary=id2word, coherence='c_v')\n",
    "        coherence = cm.get_coherence()\n",
    "        \n",
    "        result['lda'] = lda\n",
    "        result['coherence'] = coherence\n",
    "        \n",
    "        models[i] = result\n",
    "    \n",
    "    return models"
   ]
  },
  {
   "cell_type": "code",
   "execution_count": 7,
   "metadata": {},
   "outputs": [],
   "source": [
    "def get_docnames(directory):\n",
    "    \"\"\"\n",
    "    Parameters\n",
    "    ----------\n",
    "    directory: str\n",
    "    \n",
    "    Returns\n",
    "    -------\n",
    "    list of str\n",
    "        Itera sobre cada documento en directory, devolviendo nombre del archivo.\n",
    "    \"\"\"\n",
    "    docnames = []\n",
    "    cpath = Path(directory)\n",
    "    for fpath in cpath.glob('*.txt'):\n",
    "        docnames.append(fpath.stem)\n",
    "    \n",
    "    return docnames"
   ]
  },
  {
   "cell_type": "code",
   "execution_count": 8,
   "metadata": {},
   "outputs": [],
   "source": [
    "dircorpus = '/Users/tombito/Dropbox/datasets/banrep/consultivos/corpus'\n",
    "dirmodels = '/Users/tombito/Dropbox/analisis/consultivos/modelos'\n",
    "os.makedirs(dirmodels, exist_ok=True)\n",
    "\n",
    "tags = ['NOUN', 'VERB', 'ADJ', 'ADV', 'ADP','AUX', 'DET', 'PRON']\n",
    "ents = ['PER', 'ORG']\n",
    "stops = set(stopwords.words('spanish'))\n",
    "stmr = SnowballStemmer('spanish')\n",
    "\n",
    "extra = dict(postags=tags, entities=ents, stopwords=stops, stemmer=stmr)\n",
    "\n",
    "consultivos = CorpusConsultivos(dircorpus, nlp, extra)\n",
    "diccionario = consultivos.diccionario\n",
    "diccionario.save(os.path.join(dirmodels, 'consultivos.dict'))"
   ]
  },
  {
   "cell_type": "code",
   "execution_count": 9,
   "metadata": {},
   "outputs": [
    {
     "name": "stdout",
     "output_type": "stream",
     "text": [
      "CPU times: user 29min 3s, sys: 5min 8s, total: 34min 12s\n",
      "Wall time: 18min 14s\n"
     ]
    }
   ],
   "source": [
    "%%time\n",
    "n = (2, 4, 6, 8, 10, 15, 20)\n",
    "lda_params = dict(chunksize=100, passes=2, alpha='auto', eta='auto', random_state=100)\n",
    "modelos = create_models(consultivos, n, lda_params, dircorpus, nlp, extra)"
   ]
  },
  {
   "cell_type": "code",
   "execution_count": 10,
   "metadata": {},
   "outputs": [],
   "source": [
    "# generar gráfica del Coherence Score\n",
    "scores = [modelos[i]['coherence'] for i in n]\n",
    "\n",
    "trace = go.Scatter(x=n, y=scores, mode='lines+markers')\n",
    "layout = dict(title='Coherence Score para cada número de tópicos', \n",
    "              xaxis={'title': 'Número de tópicos'}, yaxis={'title': 'Coherence Score (c_v)'})\n",
    "fig = dict(data=[trace], layout=layout)\n",
    "filename = os.path.join(dirmodels, 'coherence.html')\n",
    "cohfile = pyo.plot(fig, show_link=False, filename=filename)"
   ]
  },
  {
   "cell_type": "code",
   "execution_count": 11,
   "metadata": {},
   "outputs": [],
   "source": [
    "indexes = [i for i, j in enumerate(scores) if j == max(scores)]\n",
    "optimo = n[indexes[0]]"
   ]
  },
  {
   "cell_type": "code",
   "execution_count": 12,
   "metadata": {},
   "outputs": [],
   "source": [
    "ldamodel = modelos[optimo]['lda']\n",
    "ldamodel.save(os.path.join(dirmodels, 'topicos-{:0>2}.lda'.format(optimo)))"
   ]
  },
  {
   "cell_type": "code",
   "execution_count": 13,
   "metadata": {},
   "outputs": [],
   "source": [
    "df = pd.DataFrame(data=(dict(d) for d in ldamodel[consultivos]), index=get_docnames(dircorpus))\n",
    "df['dominante'] = df.idxmax(axis=1)\n",
    "df.to_csv(os.path.join(dirmodels, 'doctopics-{:0>2}.csv'.format(optimo)), \n",
    "          encoding='utf-8')"
   ]
  },
  {
   "cell_type": "code",
   "execution_count": 14,
   "metadata": {},
   "outputs": [],
   "source": [
    "with warnings.catch_warnings():\n",
    "    warnings.simplefilter('ignore')\n",
    "    vis = pyLDAvis.gensim.prepare(ldamodel, list(consultivos), diccionario, sort_topics=False)\n",
    "pyLDAvis.save_html(vis, os.path.join(dirmodels, 'topicos-{:0>2}.html'.format(optimo)))"
   ]
  },
  {
   "cell_type": "code",
   "execution_count": 17,
   "metadata": {},
   "outputs": [
    {
     "data": {
      "image/png": "[encoded data removed]",
      "text/plain": [
       "<Figure size 1080x2160 with 6 Axes>"
      ]
     },
     "metadata": {},
     "output_type": "display_data"
    }
   ],
   "source": [
    "fiz=plt.figure(figsize=(15,30))\n",
    "filas = optimo / 2\n",
    "for i in range(optimo):\n",
    "    dfg=pd.DataFrame(ldamodel.show_topic(i), columns=['term','prob']).set_index('term')\n",
    "    \n",
    "    with sns.axes_style(\"darkgrid\"):\n",
    "        plt.subplot(filas,2,i+1)\n",
    "        plt.title('Tópico {}'.format(i+1))\n",
    "        sns.barplot(x='prob', y=dfg.index, data=dfg, palette='Reds_d')\n",
    "        plt.xlabel('probability')\n",
    "\n",
    "plt.show()"
   ]
  },
  {
   "cell_type": "code",
   "execution_count": 18,
   "metadata": {},
   "outputs": [
    {
     "data": {
      "text/plain": [
       "3    0.4932\n",
       "4    0.2055\n",
       "2    0.1918\n",
       "5    0.0685\n",
       "1    0.0411\n",
       "Name: dominante, dtype: float64"
      ]
     },
     "execution_count": 18,
     "metadata": {},
     "output_type": "execute_result"
    }
   ],
   "source": [
    "# Number of Documents for Each Topic\n",
    "topic_counts = df['dominante'].value_counts()\n",
    "topic_contribution = round(topic_counts/topic_counts.sum(), 4)\n",
    "topic_contribution"
   ]
  },
  {
   "cell_type": "code",
   "execution_count": 20,
   "metadata": {},
   "outputs": [],
   "source": [
    "fiz.savefig(os.path.join(dirmodels, 'wordtopics-{:0>2}.png'.format(optimo)))"
   ]
  }
 ],
 "metadata": {
  "kernelspec": {
   "display_name": "Python 3",
   "language": "python",
   "name": "python3"
  },
  "language_info": {
   "codemirror_mode": {
    "name": "ipython",
    "version": 3
   },
   "file_extension": ".py",
   "mimetype": "text/x-python",
   "name": "python",
   "nbconvert_exporter": "python",
   "pygments_lexer": "ipython3",
   "version": "3.6.6"
  }
 },
 "nbformat": 4,
 "nbformat_minor": 2
}
