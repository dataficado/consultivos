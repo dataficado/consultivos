{
 "cells": [
  {
   "cell_type": "code",
   "execution_count": 1,
   "metadata": {},
   "outputs": [],
   "source": [
    "from pathlib import Path\n",
    "import datetime\n",
    "import os\n",
    "\n",
    "import pandas as pd\n",
    "\n",
    "import helpers as hp"
   ]
  },
  {
   "cell_type": "code",
   "execution_count": 2,
   "metadata": {},
   "outputs": [],
   "source": [
    "filepath = '/Users/tombito/Dropbox/datasets/banrep/consultivos/ciiu/corpus_sectorial.xlsx'\n",
    "ciiu = pd.read_excel(filepath, sheet_name='CORPUS', converters={'ID': str, 'SECTOR': str})\n",
    "ciiu['FECHA'] = ciiu['FECHA'].dt.strftime('%Y%m%d')"
   ]
  },
  {
   "cell_type": "code",
   "execution_count": 3,
   "metadata": {},
   "outputs": [],
   "source": [
    "dirfile = Path(filepath).parent\n",
    "dirout = dirfile.joinpath('corpus')\n",
    "os.makedirs(dirout, exist_ok=True)"
   ]
  },
  {
   "cell_type": "code",
   "execution_count": 4,
   "metadata": {},
   "outputs": [],
   "source": [
    "keepcols = ['ID', 'CIUDAD', 'FECHA', 'SECTOR']"
   ]
  },
  {
   "cell_type": "code",
   "execution_count": 5,
   "metadata": {},
   "outputs": [],
   "source": [
    "hp.corpus_from_df(ciiu, keepcols, 'DOC', dirout)"
   ]
  }
 ],
 "metadata": {
  "kernelspec": {
   "display_name": "Python 3",
   "language": "python",
   "name": "python3"
  },
  "language_info": {
   "codemirror_mode": {
    "name": "ipython",
    "version": 3
   },
   "file_extension": ".py",
   "mimetype": "text/x-python",
   "name": "python",
   "nbconvert_exporter": "python",
   "pygments_lexer": "ipython3",
   "version": "3.6.6"
  }
 },
 "nbformat": 4,
 "nbformat_minor": 2
}
